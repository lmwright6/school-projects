{
  "nbformat": 4,
  "nbformat_minor": 0,
  "metadata": {
    "colab": {
      "name": "OM522FinalProject.ipynb",
      "version": "0.3.2",
      "provenance": [],
      "collapsed_sections": [],
      "include_colab_link": true
    },
    "kernelspec": {
      "display_name": "Python 3",
      "language": "python",
      "name": "python3"
    }
  },
  "cells": [
    {
      "cell_type": "markdown",
      "metadata": {
        "id": "view-in-github",
        "colab_type": "text"
      },
      "source": [
        "<a href=\"https://colab.research.google.com/github/lmwright6/school-projects/blob/master/OM522FinalProject.ipynb\" target=\"_parent\"><img src=\"https://colab.research.google.com/assets/colab-badge.svg\" alt=\"Open In Colab\"/></a>"
      ]
    },
    {
      "metadata": {
        "id": "OSOXyvX6Fl7Q",
        "colab_type": "text"
      },
      "cell_type": "markdown",
      "source": [
        "This notebook demonstrates the creation of a limited scope application for single machine scheduling using Python. The course project requires you to extend the functionality of this application as described in the project description.\n",
        "\n",
        "*Disclaimer:* The methods that I use to construct the application are only one of the many ways that the task may be accomplished. Moreover, I emphasized ease of understanding in contrast to efficiency.\n",
        "\n",
        "The following code block imports two libraries that I will use."
      ]
    },
    {
      "metadata": {
        "id": "rhgPkbU_Fl7S",
        "colab_type": "code",
        "colab": {}
      },
      "cell_type": "code",
      "source": [
        "\n",
        "import numpy as np\n",
        "import pandas as pd\n",
        " "
      ],
      "execution_count": 0,
      "outputs": []
    },
    {
      "metadata": {
        "id": "Dq45TfLRKx9H",
        "colab_type": "code",
        "outputId": "0c6b41cd-f51e-4bed-e67c-0eb784589f43",
        "colab": {
          "base_uri": "https://localhost:8080/",
          "height": 561
        }
      },
      "cell_type": "code",
      "source": [
        "typeInput = input(\"Press 1 to input your own data \\nPress 2 to use given data \\nPress 3 to randomly generate data \\n\")\n",
        "\n",
        "while(typeInput != '1' and typeInput != '2' and typeInput != '3'):\n",
        "  typeInput = input(\"INVALID INPUT\\nPress 1 to input your own data \\nPress 2 to use given data\\nPress 3 to randomly generate data \\n\")\n",
        "\n",
        "typeInput = int(typeInput)\n",
        "if(typeInput==1):\n",
        "  numJobs = int(input(\"How many jobs are there? \"))\n",
        "  job_list = np.empty([numJobs])\n",
        "  pjs = np.empty([numJobs])\n",
        "  djs = np.empty([numJobs])\n",
        "  wjs = np.empty([numJobs])\n",
        "  rjs = np.empty([numJobs])\n",
        "  sjk = np.empty([numJobs +1, numJobs+1])\n",
        "\n",
        "  for x in range(numJobs):\n",
        "    job_list[x] = x+1\n",
        "    value = int(input(f'What is the proccessing time for job {x+1}: ' ))\n",
        "    pjs[x] = value\n",
        "    value = int(input(f'What is the due date for job {x+1}: '))\n",
        "    djs[x] = value\n",
        "    value = int(input(f'What is the weight for job {x+1}: '))\n",
        "    wjs[x] = value\n",
        "    value = int(input(f'What is the release date for job {x+1}: '))\n",
        "    rjs[x] = value\n",
        "\n",
        "  wpt = np.array(wjs/pjs)\n",
        "  print(wpt)\n",
        "\n",
        "  for i in range(numJobs):\n",
        "    for j in range(numJobs):\n",
        "      if(j==0):\n",
        "        sjk[i,j] = np.nan\n",
        "      elif(i==j):\n",
        "        sjk[i,j] = np.nan\n",
        "      else:\n",
        "        value = int(input(f'What is the setup time between jobs {i+1} and {j+1}: '))\n",
        "        sjk[i,j] = value\n",
        "        \n",
        "  job_data = pd.DataFrame(\n",
        "      {'Job': job_list,\n",
        "       'pj': pjs,\n",
        "       'rj': rjs,\n",
        "       'dj': djs,\n",
        "       'wj': wjs,\n",
        "       'wpj': wpt,\n",
        "      })\n",
        "\n",
        "  job_data['Job'] = job_data['Job'].map(int)\n",
        "  \n",
        "elif(typeInput==2): \n",
        "  job_list = np.array([1, 2, 3, 4, 5, 6, 7, 8, 9, 10, 11, 12, 13, 14, 15, 16, 17, 18, 19, 20])\n",
        "\n",
        "  pjs = np.array([93, 76, 31, 88, 23, 77, 42, 45, 95, 22, 91, 30, 68, 95, 42, 59, 92, 90, 80, 62])\n",
        "\n",
        "  djs = np.array([1192, 736, 1287, 796, 904, 1027, 1299, 1012, 691, 1096, 860, 753, 794, 655, 760, 1189, 974, 944, 755, 797])\n",
        "\n",
        "  wjs = np.array([3, 2, 6, 8, 5, 4, 2, 8, 4, 2, 10, 6, 8, 1, 10, 7, 1, 6, 3, 9])\n",
        "\n",
        "  rjs = np.array([141, 118, 31, 32, 76, 172, 133, 142, 175, 94, 82, 128, 135, 16, 64, 8, 44, 126, 165, 94])\n",
        "\n",
        "  wpt = np.array(wjs/pjs)\n",
        "\n",
        "  sjk = np.array([[np.nan, 19., 20., 11., 21., 14., 13.,  9., 12., 21., 21., 12., 17., 20., 22., 12., 21., 17., 18., 16.,  6.],\n",
        "           [np.nan, np.nan, 14., 15., 14., 14.,  6., 23., 12., 21., 19., 10.,  5., 21.,  9., 19.,  9., 14., 24.,  7.,  9.],\n",
        "           [np.nan, 14., np.nan, 24., 23., 22., 12.,  9., 17., 18., 16., 16.,  8.,  6.,  8., 19.,  6., 12., 21., 19., 14.],\n",
        "           [np.nan, 20., 21., np.nan,  7., 18., 18., 16., 13.,  5., 17., 17., 10., 19., 20., 23.,  5., 12., 12., 21.,  5.],\n",
        "           [np.nan, 17., 10., 16., np.nan, 14., 10., 23.,  6., 20., 11.,  8., 20., 22., 13.,  5., 23., 18., 20., 23., 22.],\n",
        "           [np.nan, 16., 24., 22.,  9., np.nan, 24.,  9., 14.,  5., 15., 20., 11., 14., 19.,  7., 24.,  5., 13., 13., 12.],\n",
        "           [np.nan, 13., 15., 13.,  5., 20., np.nan, 10.,  8., 16., 16.,  9.,  5.,  7.,  7., 22.,  6., 18.,  6., 23., 24.],\n",
        "           [np.nan, 18., 14.,  6., 14.,  5., 13., np.nan,  9., 20., 22.,  9., 23.,  6., 10.,  9., 23.,  7., 18.,  6., 23.],\n",
        "           [np.nan,  6., 23., 14.,  5., 22.,  7., 19., np.nan, 13., 15., 10., 20., 24., 19., 10., 22., 22.,  5., 13., 19.],\n",
        "           [np.nan, 18., 10., 14., 24., 16.,  8., 21., 24., np.nan,  8.,  7., 11., 23., 20., 12.,  5.,  8., 10.,  6., 11.],\n",
        "           [np.nan,  8., 19., 14., 12., 12., 11., 19.,  9., 15., np.nan,  9.,  5., 21., 22., 10.,  8., 20., 22., 21., 16.],\n",
        "           [np.nan, 24., 15., 14., 19., 12., 14., 21., 17., 20., 12., np.nan, 18., 22.,  8., 19., 24., 18., 24., 24., 22.],\n",
        "           [np.nan,  5., 23., 19., 19.,  7., 13., 22., 13., 15., 11., 14., np.nan, 23., 19., 10., 17., 22., 18., 20., 11.],\n",
        "           [np.nan,  6., 10., 22., 16., 18., 24., 24., 15., 21., 16., 13., 15., np.nan,  8., 17.,  9.,  5., 18., 17., 18.],\n",
        "           [np.nan, 15.,  6., 10.,  6.,  5., 24., 17.,  9.,  5., 13., 24., 10., 23., np.nan, 18., 11., 18., 19.,  7., 17.],\n",
        "           [np.nan, 20., 10., 22., 18., 20., 21., 23., 12., 10., 19., 23.,  9.,  9.,  8., np.nan, 20.,  5., 13., 15., 22.],\n",
        "           [np.nan,  9., 19., 10., 18., 24., 14., 14., 10., 18.,  6., 23.,  5.,  8., 19., 18., np.nan, 18.,  8.,  8., 12.],\n",
        "           [np.nan, 16.,  6., 13., 20., 18., 19., 23., 17.,  7.,  7.,  7., 18.,  6.,  5.,  6., 11., np.nan, 22.,  5., 22.],\n",
        "           [np.nan, 11., 14., 17., 20., 21., 11., 20., 22., 11., 16.,  9., 18., 22., 21., 11., 14., 23., np.nan, 18., 18.],\n",
        "           [np.nan,  8., 10., 11., 23., 16., 24., 15.,  6., 20., 11., 21., 20., 24., 11., 12., 14., 18., 15., np.nan, 19.],\n",
        "           [np.nan, 10.,  6., 21., 21.,  8., 18., 21., 16.,  6.,  6., 14., 23., 21.,  6., 24., 10., 19., 15.,  6., np.nan]])\n",
        "  job_data = pd.DataFrame(\n",
        "        {'Job': job_list,\n",
        "         'pj': pjs,\n",
        "         'rj': rjs,\n",
        "         'dj': djs,\n",
        "         'wj': wjs,\n",
        "         'wpj': wpt,\n",
        "        })\n",
        "else:\n",
        "  \n",
        "  jobs = int(input(\"Please input the number of jobs you would like to randomly generate\\n\"))\n",
        "  np.random.seed(jobs)\n",
        "  job_list = [i for i in range(1, jobs+1)]\n",
        "  pjs = list(np.random.randint(15, 100, jobs))\n",
        "  djs = list(np.random.randint(int(0.5*np.sum(pjs)), int(1.00*np.sum(pjs)), jobs))\n",
        "  wjs = list(np.random.randint(1, 11, jobs))\n",
        "  rjs = [0 for i in range(1, jobs+1)]\n",
        "  wpt = [i for i in range(1, jobs+1)]\n",
        "\n",
        "  job_data = pd.DataFrame(\n",
        "      {'Job': job_list,\n",
        "       'pj': pjs,\n",
        "       'dj': djs,\n",
        "       'wj': wjs,\n",
        "       'rj': rjs,\n",
        "       'wpj': wpt,\n",
        "\n",
        "      })\n",
        "\n",
        "  job_data['pj'] = job_data['pj'].astype(float)\n",
        "  job_data['wj'] = job_data['wj'].astype(float)\n",
        "  job_data['dj'] = job_data['dj'].astype(float)\n",
        "  job_data['rj'] = job_data['rj'].astype(float)\n",
        "\n",
        "\n",
        "  print(f'The job data follows.\\n\\n {job_data}\\n\\n')\n",
        "\n",
        "  sjk = np.random.randint(5, 25, (jobs+1, jobs+1))\n",
        "  np.fill_diagonal(sjk, 0)\n",
        "  sjk[:,0] = 0\n",
        "  sjk = sjk.astype(float)\n",
        "  sjk[sjk < 1] = np.nan\n",
        "\n",
        "  \n",
        "scheduleDecisions()"
      ],
      "execution_count": 74,
      "outputs": [
        {
          "output_type": "stream",
          "text": [
            "Press 1 to input your own data \n",
            "Press 2 to use given data \n",
            "Press 3 to randomly generate data \n",
            "3\n",
            "Please input the number of jobs you would like to randomly generate\n",
            "13\n",
            "The job data follows.\n",
            "\n",
            "     Job     dj    pj   rj   wj  wpj\n",
            "0     1  788.0  97.0  0.0  9.0    1\n",
            "1     2  765.0  63.0  0.0  7.0    2\n",
            "2     3  715.0  89.0  0.0  3.0    3\n",
            "3     4  617.0  31.0  0.0  5.0    4\n",
            "4     5  860.0  40.0  0.0  6.0    5\n",
            "5     6  606.0  73.0  0.0  8.0    6\n",
            "6     7  860.0  41.0  0.0  4.0    7\n",
            "7     8  596.0  81.0  0.0  6.0    8\n",
            "8     9  532.0  61.0  0.0  9.0    9\n",
            "9    10  458.0  69.0  0.0  4.0   10\n",
            "10   11  603.0  92.0  0.0  9.0   11\n",
            "11   12  737.0  89.0  0.0  6.0   12\n",
            "12   13  869.0  88.0  0.0  2.0   13\n",
            "\n",
            "\n",
            "What is your primary objective (CMAX or TWT)?: CMAX\n",
            "True or False, do you want to use setup times?: True\n",
            "What rule do you want to use (SPT, EDD, WSPT, LPT, SST)? WSPT\n",
            "True or False, do you want to improve this solution? True\n",
            "How many iterations of improvement do you want? 12\n",
            "Do you want PWI or INSERTION? INSERTION\n",
            "The best schedule is [4, 2, 4, 7, 5, 4, 7, 4, 5, 4, 2, 4, 6],\n",
            "with a CMAX of 725.0, and TWT of 1062.0.\n"
          ],
          "name": "stdout"
        }
      ]
    },
    {
      "metadata": {
        "id": "2wpDWvXTxaOg",
        "colab_type": "code",
        "colab": {
          "base_uri": "https://localhost:8080/",
          "height": 1156
        },
        "outputId": "a82aeddd-9d97-47ca-bb65-422420aaa9fa"
      },
      "cell_type": "code",
      "source": [
        "jobs = 50\n",
        "np.random.seed(jobs)\n",
        "job_list = [i for i in range(1, jobs+1)]\n",
        "pjs = list(np.random.randint(15, 100, jobs))\n",
        "djs = list(np.random.randint(int(0.5*np.sum(pjs)), int(1.00*np.sum(pjs)), jobs))\n",
        "wjs = list(np.random.randint(1, 11, jobs))\n",
        "rjs = [0 for i in range(1, jobs+1)]\n",
        "wpt = [i for i in range(1, jobs+1)]\n",
        "\n",
        "job_data = pd.DataFrame(\n",
        "    {'Job': job_list,\n",
        "     'pj': pjs,\n",
        "     'dj': djs,\n",
        "     'wj': wjs,\n",
        "     'rj': rjs,\n",
        "     'wpj': wpt,\n",
        "     \n",
        "    })\n",
        "\n",
        "job_data['pj'] = job_data['pj'].astype(float)\n",
        "job_data['wj'] = job_data['wj'].astype(float)\n",
        "job_data['dj'] = job_data['dj'].astype(float)\n",
        "job_data['rj'] = job_data['rj'].astype(float)\n",
        "\n",
        "\n",
        "print(f'The job data follows.\\n\\n {job_data}\\n\\n')\n",
        "\n",
        "sjk = np.random.randint(5, 25, (jobs+1, jobs+1))\n",
        "np.fill_diagonal(sjk, 0)\n",
        "sjk[:,0] = 0\n",
        "sjk = sjk.astype(float)\n",
        "sjk[sjk < 1] = np.nan\n",
        "\n",
        "print(f'The setup data follows where there are n+1 rows (0...{jobs}) and n+1 columns (0...{jobs}).\\n\\\n",
        "Each (row, column) entry represents the time it takes to setup when the row job precedes the column job.\\n\\n {sjk}\\n\\n')"
      ],
      "execution_count": 53,
      "outputs": [
        {
          "output_type": "stream",
          "text": [
            "The job data follows.\n",
            "\n",
            "     Job      dj    pj   rj    wj  wpj\n",
            "0     1  2482.0  63.0  0.0   8.0    1\n",
            "1     2  2083.0  26.0  0.0  10.0    2\n",
            "2     3  1976.0  48.0  0.0   2.0    3\n",
            "3     4  2098.0  19.0  0.0   6.0    4\n",
            "4     5  2341.0  85.0  0.0   9.0    5\n",
            "5     6  1483.0  85.0  0.0   4.0    6\n",
            "6     7  1657.0  37.0  0.0   4.0    7\n",
            "7     8  1973.0  20.0  0.0   6.0    8\n",
            "8     9  2049.0  17.0  0.0   4.0    9\n",
            "9    10  1580.0  86.0  0.0   7.0   10\n",
            "10   11  1699.0  83.0  0.0   9.0   11\n",
            "11   12  1373.0  93.0  0.0   7.0   12\n",
            "12   13  1615.0  50.0  0.0   1.0   13\n",
            "13   14  2059.0  41.0  0.0   9.0   14\n",
            "14   15  1831.0  21.0  0.0   3.0   15\n",
            "15   16  1781.0  35.0  0.0   2.0   16\n",
            "16   17  1469.0  58.0  0.0   2.0   17\n",
            "17   18  1364.0  46.0  0.0   7.0   18\n",
            "18   19  2105.0  64.0  0.0   6.0   19\n",
            "19   20  1436.0  56.0  0.0   6.0   20\n",
            "20   21  2332.0  79.0  0.0   7.0   21\n",
            "21   22  1862.0  21.0  0.0   5.0   22\n",
            "22   23  2300.0  34.0  0.0  10.0   23\n",
            "23   24  1614.0  17.0  0.0   5.0   24\n",
            "24   25  2520.0  94.0  0.0  10.0   25\n",
            "25   26  2205.0  45.0  0.0  10.0   26\n",
            "26   27  2070.0  50.0  0.0   1.0   27\n",
            "27   28  1718.0  41.0  0.0   1.0   28\n",
            "28   29  2467.0  75.0  0.0   8.0   29\n",
            "29   30  1563.0  81.0  0.0   2.0   30\n",
            "30   31  1758.0  91.0  0.0   1.0   31\n",
            "31   32  2323.0  82.0  0.0   5.0   32\n",
            "32   33  2090.0  17.0  0.0   5.0   33\n",
            "33   34  2098.0  25.0  0.0   2.0   34\n",
            "34   35  1776.0  66.0  0.0   6.0   35\n",
            "35   36  2196.0  15.0  0.0   7.0   36\n",
            "36   37  1927.0  15.0  0.0   4.0   37\n",
            "37   38  1789.0  26.0  0.0   9.0   38\n",
            "38   39  1711.0  45.0  0.0   3.0   39\n",
            "39   40  1653.0  41.0  0.0   9.0   40\n",
            "40   41  2087.0  86.0  0.0   7.0   41\n",
            "41   42  1340.0  66.0  0.0   7.0   42\n",
            "42   43  1660.0  43.0  0.0   1.0   43\n",
            "43   44  1895.0  39.0  0.0   5.0   44\n",
            "44   45  1289.0  61.0  0.0   5.0   45\n",
            "45   46  2002.0  77.0  0.0   8.0   46\n",
            "46   47  2470.0  28.0  0.0   1.0   47\n",
            "47   48  2051.0  86.0  0.0   7.0   48\n",
            "48   49  1427.0  51.0  0.0   5.0   49\n",
            "49   50  1683.0  15.0  0.0   4.0   50\n",
            "\n",
            "\n",
            "The setup data follows where there are n+1 rows (0...50) and n+1 columns (0...50).\n",
            "Each (row, column) entry represents the time it takes to setup when the row job precedes the column job.\n",
            "\n",
            " [[nan 22. 19. ... 23.  6. 20.]\n",
            " [nan nan  5. ... 12. 12. 21.]\n",
            " [nan  7. nan ... 23. 20.  7.]\n",
            " ...\n",
            " [nan 15. 21. ... nan 14. 11.]\n",
            " [nan 12. 13. ...  5. nan 15.]\n",
            " [nan 12.  6. ... 18. 15. nan]]\n",
            "\n",
            "\n"
          ],
          "name": "stdout"
        }
      ]
    },
    {
      "metadata": {
        "id": "f2cnkMeW8y-Z",
        "colab_type": "code",
        "colab": {}
      },
      "cell_type": "code",
      "source": [
        "def str_to_bool(s):\n",
        "    if s == 'True':\n",
        "         return True\n",
        "    elif s == 'False':\n",
        "         return False"
      ],
      "execution_count": 0,
      "outputs": []
    },
    {
      "metadata": {
        "id": "4Xkw0BKSFl7W",
        "colab_type": "text"
      },
      "cell_type": "markdown",
      "source": [
        "The following code block defines the data for the scheduling instance. I will provide you data for several instances that you can use to test your application. In practice, you would probably read the data for your scheduling instances from a database or an exported file from an ERP system. While this is relatively simple to do with Python, it is beyond the scope of this project."
      ]
    },
    {
      "metadata": {
        "id": "76GsioeqFl7X",
        "colab_type": "code",
        "colab": {}
      },
      "cell_type": "code",
      "source": [
        "\n",
        "job_list = np.array([1, 2, 3, 4, 5, 6, 7, 8, 9, 10, 11, 12, 13, 14, 15, 16, 17, 18, 19, 20])\n",
        "\n",
        "pjs = np.array([93, 76, 31, 88, 23, 77, 42, 45, 95, 22, 91, 30, 68, 95, 42, 59, 92, 90, 80, 62])\n",
        "\n",
        "djs = np.array([1192, 736, 1287, 796, 904, 1027, 1299, 1012, 691, 1096, 860, 753, 794, 655, 760, 1189, 974, 944, 755, 797])\n",
        "\n",
        "wjs = np.array([3, 2, 6, 8, 5, 4, 2, 8, 4, 2, 10, 6, 8, 1, 10, 7, 1, 6, 3, 9])\n",
        "\n",
        "rjs = np.array([141, 118, 31, 32, 76, 172, 133, 142, 175, 94, 82, 128, 135, 16, 64, 8, 44, 126, 165, 94])\n",
        "\n",
        "wpt = np.array(wjs/pjs)\n",
        "\n",
        "sjk = np.array([[np.nan, 19., 20., 11., 21., 14., 13.,  9., 12., 21., 21., 12., 17., 20., 22., 12., 21., 17., 18., 16.,  6.],\n",
        "         [np.nan, np.nan, 14., 15., 14., 14.,  6., 23., 12., 21., 19., 10.,  5., 21.,  9., 19.,  9., 14., 24.,  7.,  9.],\n",
        "         [np.nan, 14., np.nan, 24., 23., 22., 12.,  9., 17., 18., 16., 16.,  8.,  6.,  8., 19.,  6., 12., 21., 19., 14.],\n",
        "         [np.nan, 20., 21., np.nan,  7., 18., 18., 16., 13.,  5., 17., 17., 10., 19., 20., 23.,  5., 12., 12., 21.,  5.],\n",
        "         [np.nan, 17., 10., 16., np.nan, 14., 10., 23.,  6., 20., 11.,  8., 20., 22., 13.,  5., 23., 18., 20., 23., 22.],\n",
        "         [np.nan, 16., 24., 22.,  9., np.nan, 24.,  9., 14.,  5., 15., 20., 11., 14., 19.,  7., 24.,  5., 13., 13., 12.],\n",
        "         [np.nan, 13., 15., 13.,  5., 20., np.nan, 10.,  8., 16., 16.,  9.,  5.,  7.,  7., 22.,  6., 18.,  6., 23., 24.],\n",
        "         [np.nan, 18., 14.,  6., 14.,  5., 13., np.nan,  9., 20., 22.,  9., 23.,  6., 10.,  9., 23.,  7., 18.,  6., 23.],\n",
        "         [np.nan,  6., 23., 14.,  5., 22.,  7., 19., np.nan, 13., 15., 10., 20., 24., 19., 10., 22., 22.,  5., 13., 19.],\n",
        "         [np.nan, 18., 10., 14., 24., 16.,  8., 21., 24., np.nan,  8.,  7., 11., 23., 20., 12.,  5.,  8., 10.,  6., 11.],\n",
        "         [np.nan,  8., 19., 14., 12., 12., 11., 19.,  9., 15., np.nan,  9.,  5., 21., 22., 10.,  8., 20., 22., 21., 16.],\n",
        "         [np.nan, 24., 15., 14., 19., 12., 14., 21., 17., 20., 12., np.nan, 18., 22.,  8., 19., 24., 18., 24., 24., 22.],\n",
        "         [np.nan,  5., 23., 19., 19.,  7., 13., 22., 13., 15., 11., 14., np.nan, 23., 19., 10., 17., 22., 18., 20., 11.],\n",
        "         [np.nan,  6., 10., 22., 16., 18., 24., 24., 15., 21., 16., 13., 15., np.nan,  8., 17.,  9.,  5., 18., 17., 18.],\n",
        "         [np.nan, 15.,  6., 10.,  6.,  5., 24., 17.,  9.,  5., 13., 24., 10., 23., np.nan, 18., 11., 18., 19.,  7., 17.],\n",
        "         [np.nan, 20., 10., 22., 18., 20., 21., 23., 12., 10., 19., 23.,  9.,  9.,  8., np.nan, 20.,  5., 13., 15., 22.],\n",
        "         [np.nan,  9., 19., 10., 18., 24., 14., 14., 10., 18.,  6., 23.,  5.,  8., 19., 18., np.nan, 18.,  8.,  8., 12.],\n",
        "         [np.nan, 16.,  6., 13., 20., 18., 19., 23., 17.,  7.,  7.,  7., 18.,  6.,  5.,  6., 11., np.nan, 22.,  5., 22.],\n",
        "         [np.nan, 11., 14., 17., 20., 21., 11., 20., 22., 11., 16.,  9., 18., 22., 21., 11., 14., 23., np.nan, 18., 18.],\n",
        "         [np.nan,  8., 10., 11., 23., 16., 24., 15.,  6., 20., 11., 21., 20., 24., 11., 12., 14., 18., 15., np.nan, 19.],\n",
        "         [np.nan, 10.,  6., 21., 21.,  8., 18., 21., 16.,  6.,  6., 14., 23., 21.,  6., 24., 10., 19., 15.,  6., np.nan]])\n",
        "job_data = pd.DataFrame(\n",
        "      {'Job': job_list,\n",
        "       'pj': pjs,\n",
        "       'rj': rjs,\n",
        "       'dj': djs,\n",
        "       'wj': wjs,\n",
        "       'wpj': wpt,\n",
        "      })\n",
        "  "
      ],
      "execution_count": 0,
      "outputs": []
    },
    {
      "metadata": {
        "id": "GYsaY3-csdIJ",
        "colab_type": "text"
      },
      "cell_type": "markdown",
      "source": [
        "get the number of jobs\n"
      ]
    },
    {
      "metadata": {
        "id": "_Zp72wWurISC",
        "colab_type": "code",
        "colab": {}
      },
      "cell_type": "code",
      "source": [
        "def collectInput():\n",
        "  numJobs = int(input(\"How many jobs are there? \"))\n",
        "  job_list = np.empty([numJobs])\n",
        "  pjs = np.empty([numJobs])\n",
        "  djs = np.empty([numJobs])\n",
        "  wjs = np.empty([numJobs])\n",
        "  rjs = np.empty([numJobs])\n",
        "  sjk = np.empty([numJobs +1, numJobs+1])\n",
        "\n",
        "  for x in range(numJobs):\n",
        "    job_list[x] = x+1\n",
        "    value = int(input(f'What is the proccessing time for job {x+1}: ' ))\n",
        "    pjs[x] = value\n",
        "    value = int(input(f'What is the due date for job {x+1}: '))\n",
        "    djs[x] = value\n",
        "    value = int(input(f'What is the weight for job {x+1}: '))\n",
        "    wjs[x] = value\n",
        "    value = int(input(f'What is the release date for job {x+1}: '))\n",
        "    rjs[x] = value\n",
        "\n",
        "  wpt = np.array(wjs/pjs)\n",
        "  print(wpt)\n",
        "\n",
        "  for i in range(numJobs):\n",
        "    for j in range(numJobs):\n",
        "      if(j==0):\n",
        "        sjk[i,j] = np.nan\n",
        "      elif(i==j):\n",
        "        sjk[i,j] = np.nan\n",
        "      else:\n",
        "        value = int(input(f'What is the setup time between jobs {i+1} and {j+1}: '))\n",
        "        sjk[i,j] = value\n",
        "        \n",
        "  job_data = pd.DataFrame(\n",
        "      {'Job': job_list,\n",
        "       'pj': pjs,\n",
        "       'rj': rjs,\n",
        "       'dj': djs,\n",
        "       'wj': wjs,\n",
        "       'wpj': wpt,\n",
        "      })\n",
        "\n",
        "  job_data['Job'] = job_data['Job'].map(int)"
      ],
      "execution_count": 0,
      "outputs": []
    },
    {
      "metadata": {
        "id": "Jvo5HQn2_C4r",
        "colab_type": "code",
        "colab": {}
      },
      "cell_type": "code",
      "source": [
        "def scheduleDecisions():\n",
        "  primaryObjective = input(\"What is your primary objective (CMAX or TWT)?: \")\n",
        "  setupTimes = str_to_bool(input(\"True or False, do you want to use setup times?: \"))\n",
        "  myRule = input(\"What rule do you want to use (SPT, EDD, WSPT, LPT, SST)? \")\n",
        "  shouldImprove = str_to_bool(input(\"True or False, do you want to improve this solution? \"))\n",
        "  if(shouldImprove):\n",
        "    numIterations = int(input(\"How many iterations of improvement do you want? \"))\n",
        "    typeNeighbor = input(\"Do you want PWI or INSERTION? \")\n",
        "  else:\n",
        "    numIterations = 0\n",
        "    typeNeighbor = None\n",
        "\n",
        "\n",
        "  schedule, CMAX, TWT = Generate_Schedule(job_data, \n",
        "                                          setup_times = setupTimes, \n",
        "                                          setup_matrix = sjk,\n",
        "                                          improve = shouldImprove,\n",
        "                                          improve_iterations = numIterations,\n",
        "                                          neighborhood = typeNeighbor,\n",
        "                                          rule = myRule)\n",
        "  print(f'The best schedule is {schedule},\\nwith a CMAX of {CMAX}, and TWT of {TWT}.')"
      ],
      "execution_count": 0,
      "outputs": []
    },
    {
      "metadata": {
        "id": "tSoB7gqdFl7a",
        "colab_type": "text"
      },
      "cell_type": "markdown",
      "source": [
        "The following cell uses the arrays of jobs, processing times (`pjs`), release dates (`rjs`), due dates (`djs`), and weights (`wjs`) to construct a `pandas` dataframe that stores all of the instance data in a tabular format."
      ]
    },
    {
      "metadata": {
        "id": "kJJji05MFl71",
        "colab_type": "text"
      },
      "cell_type": "markdown",
      "source": [
        "#### ... and now, back to our scheduling aplication.\n",
        "\n",
        "The following code block defines a function that computes the makespan for a provided sequence. Note that when defining the function, we can specify the arguments that must be provided by users. Documentation that describes the proper use of the function is also helpful."
      ]
    },
    {
      "metadata": {
        "id": "aexytqCMFl73",
        "colab_type": "code",
        "colab": {}
      },
      "cell_type": "code",
      "source": [
        "def Compute_CMAX(sequence, job_data, sjk):\n",
        "    '''\n",
        "    This function computes the makespan for a job sequence using data on the job processing times and setup times\n",
        "    \n",
        "    Parameters\n",
        "    ----------\n",
        "    sequence: \n",
        "        A list that specifies the sequence of jobs\n",
        "    job_data:\n",
        "        A pandas dataframe that includes columns with the job names and job processing times. \n",
        "        The column names for the two stated columns should be 'Job' and 'pj', respectively.\n",
        "    sjk:\n",
        "        The setup matrix for the jobs\n",
        "    \n",
        "    Returns\n",
        "    -------\n",
        "    The makespan of the provided sequence\n",
        "    '''\n",
        "    t = 0\n",
        "    l = 0\n",
        "    for j in sequence:\n",
        "        rj = job_data.loc[job_data['Job']==j,'rj'].item()\n",
        "        pj = job_data.loc[job_data['Job']==j,'pj'].item()\n",
        "        slj = sjk[l][j]\n",
        "        if(t < rj):\n",
        "            t = rj\n",
        "        t += slj + pj\n",
        "        l = j\n",
        "    return t"
      ],
      "execution_count": 0,
      "outputs": []
    },
    {
      "metadata": {
        "id": "nH1-xJ5qFl74",
        "colab_type": "text"
      },
      "cell_type": "markdown",
      "source": [
        "The following code block defines a function that computes the total weighted tardiness for a provided sequence."
      ]
    },
    {
      "metadata": {
        "id": "YsBCH6cSFl75",
        "colab_type": "code",
        "colab": {}
      },
      "cell_type": "code",
      "source": [
        "def Compute_TWT(sequence, job_data, sjk):\n",
        "    '''\n",
        "    This function computes the total weighted tardines for a job sequence using data \n",
        "    on the job processing times and setup times\n",
        "    \n",
        "    Parameters\n",
        "    ----------\n",
        "    sequence: \n",
        "        A list that specifies the sequence of jobs\n",
        "    job_data:\n",
        "        A pandas dataframe that includes columns with the job names, job processing times, \n",
        "        job weights, and job due dates. The column names for the stated columns should be \n",
        "        'Job', 'pj', 'wj', and 'dj', respectively.\n",
        "    sjk:\n",
        "        The setup matrix for the jobs\n",
        "    \n",
        "    Returns\n",
        "    -------\n",
        "    The total weighted tardiness for the provided sequence\n",
        "    '''\n",
        "    t = 0\n",
        "    l = 0\n",
        "    TWT = 0\n",
        "    for j in sequence:\n",
        "        rj = job_data.loc[job_data['Job']==j,'rj'].item()\n",
        "        wj = job_data.loc[job_data['Job']==j,'wj'].item()\n",
        "        pj = job_data.loc[job_data['Job']==j,'pj'].item()\n",
        "        dj = job_data.loc[job_data['Job']==j,'dj'].item()\n",
        "        slj = sjk[l][j]\n",
        "        if(t < rj):\n",
        "            t = rj\n",
        "        t += slj + pj\n",
        "        TWT += wj * max(t - dj, 0)\n",
        "        l = j\n",
        "    return TWT"
      ],
      "execution_count": 0,
      "outputs": []
    },
    {
      "metadata": {
        "id": "5fnta5I0Fl77",
        "colab_type": "text"
      },
      "cell_type": "markdown",
      "source": [
        "The following code block defines a function that sequences a set of jobs using the *shortest processing time first* (SPT) rule."
      ]
    },
    {
      "metadata": {
        "id": "3NaJ91YkFl78",
        "colab_type": "code",
        "colab": {}
      },
      "cell_type": "code",
      "source": [
        "\n",
        "def Apply_SPT_Rule(job_data):\n",
        "    '''\n",
        "    This function determines the shortest processing time first sequence for a set of jobs defined in\n",
        "    a provided dataframe\n",
        "    \n",
        "    Parameters\n",
        "    ----------\n",
        "    job_data:\n",
        "        A pandas dataframe that includes columns with the job names, job processing times, and \n",
        "        job release dates. The column names for the stated columns should be \n",
        "        'Job', 'pj', and 'rj', respectively.\n",
        "    \n",
        "    Returns\n",
        "    -------\n",
        "    A list specifying the shortest processing time first sequence\n",
        "    '''\n",
        "    scheduled = []\n",
        "    unscheduled = list(job_data['Job'].values)\n",
        "\n",
        "    t = 0\n",
        "    l = 0\n",
        "    while len(unscheduled) > 0:\n",
        "        selected_job = None\n",
        "        shortest_pj = np.max(job_data['pj'].max()+1)\n",
        "        new_job_selected = 0\n",
        "        for j in unscheduled:\n",
        "            if(job_data.loc[job_data['Job']==j,'rj'].item() <= t):\n",
        "                if(job_data.loc[job_data['Job']==j,'pj'].item() < shortest_pj):\n",
        "                    new_job_selected = 1\n",
        "                    shortest_pj = job_data.loc[job_data['Job']==j,'pj'].item()\n",
        "                    selected_job = j\n",
        "        if new_job_selected == 1:\n",
        "            t = t + sjk[l][selected_job] + job_data.loc[job_data['Job']==selected_job,'pj'].item()\n",
        "            l = selected_job\n",
        "            scheduled.append(selected_job)\n",
        "            unscheduled.remove(selected_job)\n",
        "        else:\n",
        "            t += 1\n",
        "    return scheduled"
      ],
      "execution_count": 0,
      "outputs": []
    },
    {
      "metadata": {
        "id": "aC4PGS_gv59R",
        "colab_type": "code",
        "colab": {}
      },
      "cell_type": "code",
      "source": [
        "def Apply_LPT_Rule(job_data):\n",
        "    '''\n",
        "    This function determines the longest processing time first sequence for a set of jobs defined in\n",
        "    a provided dataframe\n",
        "    \n",
        "    Parameters\n",
        "    ----------\n",
        "    job_data:\n",
        "        A pandas dataframe that includes columns with the job names, job processing times, and \n",
        "        job release dates. The column names for the stated columns should be \n",
        "        'Job', 'pj', and 'rj', respectively.\n",
        "    \n",
        "    Returns\n",
        "    -------\n",
        "    A list specifying the longest processing time first sequence\n",
        "    '''\n",
        "    scheduled = []\n",
        "    unscheduled = list(job_data['Job'].values)\n",
        "\n",
        "    t = 0\n",
        "    l = 0\n",
        "    while len(unscheduled) > 0:\n",
        "        selected_job = None\n",
        "        longest_pj = np.min(job_data['pj'].min()-1)\n",
        "        new_job_selected = 0\n",
        "        for j in unscheduled:\n",
        "            if(job_data.loc[job_data['Job']==j,'rj'].item() <= t):\n",
        "                if(job_data.loc[job_data['Job']==j,'pj'].item() > longest_pj):\n",
        "                    new_job_selected = 1\n",
        "                    longest_pj = job_data.loc[job_data['Job']==j,'pj'].item()\n",
        "                    selected_job = j\n",
        "        if new_job_selected == 1:\n",
        "            t = t + sjk[l][selected_job] + job_data.loc[job_data['Job']==selected_job,'pj'].item()\n",
        "            l = selected_job\n",
        "            scheduled.append(selected_job)\n",
        "            unscheduled.remove(selected_job)\n",
        "        else:\n",
        "            t += 1\n",
        "    return scheduled"
      ],
      "execution_count": 0,
      "outputs": []
    },
    {
      "metadata": {
        "id": "ivqhFgxQjTi5",
        "colab_type": "code",
        "colab": {}
      },
      "cell_type": "code",
      "source": [
        "def Apply_WSPT_Rule(job_data):\n",
        "    '''\n",
        "    This function determines the weighted shortest processing time first sequence for a set of jobs defined in\n",
        "    a provided dataframe\n",
        "    \n",
        "    Parameters\n",
        "    ----------\n",
        "    job_data:\n",
        "        A pandas dataframe that includes columns with the job names, job processing times, and \n",
        "        job release dates. The column names for the stated columns should be \n",
        "        'Job', 'pj', and 'rj', respectively.\n",
        "    \n",
        "    Returns\n",
        "    -------\n",
        "    A list specifying the weighted shortest processing time first sequence\n",
        "    '''\n",
        "    scheduled = []\n",
        "    unscheduled = list(job_data['Job'].values)\n",
        "\n",
        "    t = 0\n",
        "    l = 0\n",
        "    while len(unscheduled) > 0:\n",
        "        selected_job = None\n",
        "        weighted_shortest_pj = np.max(job_data['wpj'].max()+1)\n",
        "        new_job_selected = 0\n",
        "        for j in unscheduled:\n",
        "            if(job_data.loc[job_data['Job']==j,'rj'].item() <= t):\n",
        "                if(job_data.loc[job_data['Job']==j,'wpj'].item() < weighted_shortest_pj):\n",
        "                    new_job_selected = 1\n",
        "                    weighted_shortest_pj = job_data.loc[job_data['Job']==j,'wpj'].item()\n",
        "                    selected_job = j\n",
        "        if new_job_selected == 1:\n",
        "            t = t + sjk[l][selected_job] + job_data.loc[job_data['Job']==selected_job,'pj'].item()\n",
        "            l = selected_job\n",
        "            scheduled.append(selected_job)\n",
        "            unscheduled.remove(selected_job)\n",
        "        else:\n",
        "            t += 1\n",
        "    return scheduled"
      ],
      "execution_count": 0,
      "outputs": []
    },
    {
      "metadata": {
        "id": "HLB_AbgptHZe",
        "colab_type": "code",
        "colab": {}
      },
      "cell_type": "code",
      "source": [
        "def Apply_SST_Rule(job_data, sjk):\n",
        "    '''\n",
        "     \n",
        "    This function determines the shortest setup time first sequence for a set of jobs defined in\n",
        "    a provided dataframe\n",
        "    \n",
        "    Parameters\n",
        "    ----------\n",
        "    job_data:\n",
        "        A pandas dataframe that includes columns with the job names, job processing times, and \n",
        "        job release dates. The column names for the stated columns should be \n",
        "        'Job', 'pj', and 'rj', respectively.\n",
        "    \n",
        "    Returns\n",
        "    -------\n",
        "    A list specifying the shortest setup time first sequence\n",
        "    '''\n",
        "    scheduled = []\n",
        "    unscheduled = list(job_data['Job'].values)\n",
        "    t = 0\n",
        "    l = 0\n",
        "    tiebreaker = 0\n",
        "    while len(unscheduled) > 0:\n",
        "        selected_job = None\n",
        "        shortest_sjk = (np.nanmax(sjk)+1)\n",
        "        new_job_selected = 0\n",
        "        if(t == 0):\n",
        "          for j in unscheduled:\n",
        "            for k in unscheduled:\n",
        "              if(sjk[j][k] < shortest_sjk):\n",
        "                new_job_selected = 1\n",
        "                tiebreaker = job_data.loc[job_data['Job']==j,'dj'].item()\n",
        "                shortest_sjk = sjk[j][k]\n",
        "                selected_job = j\n",
        "                future_job = k\n",
        "              elif(sjk[j][k] == shortest_sjk):\n",
        "                  if(tiebreaker > job_data.loc[job_data['Job']==j,'dj'].item()):\n",
        "                    shortest_sjk = sjk[j][k]\n",
        "                    selected_job = j\n",
        "                    future_job = k\n",
        "        else:\n",
        "            for k in unscheduled:\n",
        "              if(sjk[j][k] < shortest_sjk and j != k and sjk[j][k] != 'nan'):\n",
        "                new_job_selected = 1\n",
        "                shortest_sjk = sjk[j][k]\n",
        "                selected_job = j\n",
        "                future_job = k\n",
        "        if new_job_selected == 1:\n",
        "            t = t + sjk[l][selected_job] + job_data.loc[job_data['Job']==selected_job,'pj'].item()\n",
        "            l = selected_job\n",
        "            scheduled.append(selected_job)\n",
        "            unscheduled.remove(selected_job)\n",
        "            j = future_job\n",
        "            if(len(unscheduled)==1):\n",
        "              selected_job = j\n",
        "              scheduled.append(selected_job)\n",
        "              unscheduled.remove(selected_job)            \n",
        "        else:\n",
        "            t += 1\n",
        "    return scheduled"
      ],
      "execution_count": 0,
      "outputs": []
    },
    {
      "metadata": {
        "id": "cGC3nSe_Fl7-",
        "colab_type": "text"
      },
      "cell_type": "markdown",
      "source": [
        "The following code block defines a function that sequences a set of jobs using the *earliest due date first* (EDD) rule."
      ]
    },
    {
      "metadata": {
        "id": "nq0XiVZmFl8A",
        "colab_type": "text"
      },
      "cell_type": "markdown",
      "source": [
        "The following code block defines a function that performs a single pairwise interchange to a specified job sequnce."
      ]
    },
    {
      "metadata": {
        "id": "wOM-5omLFl7-",
        "colab_type": "code",
        "colab": {}
      },
      "cell_type": "code",
      "source": [
        "def Apply_EDD_Rule(job_data):\n",
        "    '''\n",
        "    This function determines the earliest due date first sequence for a set of jobs defined in\n",
        "    a provided dataframe\n",
        "    \n",
        "    Parameters\n",
        "    ----------\n",
        "    job_data:\n",
        "        A pandas dataframe that includes columns with the job names, job processing times, job\n",
        "        due dates and job release dates. The column names for the stated columns should be \n",
        "        'Job', 'pj', 'dj', and 'rj', respectively.\n",
        "    \n",
        "    Returns\n",
        "    -------\n",
        "    A list specifying the earliest due date first sequence\n",
        "    '''\n",
        "    \n",
        "    scheduled = []\n",
        "    unscheduled = list(job_data['Job'].values)\n",
        "\n",
        "    t = 0\n",
        "    l = 0\n",
        "    while len(unscheduled) > 0:\n",
        "        selected_job = None\n",
        "        earliest_dj = np.max(job_data['dj'].max()+1)\n",
        "        new_job_selected = 0\n",
        "        for j in unscheduled:\n",
        "            if(job_data.loc[job_data['Job']==j,'rj'].item() <= t):\n",
        "                if(job_data.loc[job_data['Job']==j,'dj'].item() < earliest_dj):\n",
        "                    new_job_selected = 1\n",
        "                    earliest_dj = job_data.loc[job_data['Job']==j,'dj'].item()\n",
        "                    selected_job = j\n",
        "        if new_job_selected == 1:\n",
        "            t = t + sjk[l][selected_job] + job_data.loc[job_data['Job']==selected_job,'pj'].item()\n",
        "            l = selected_job\n",
        "            scheduled.append(selected_job)\n",
        "            unscheduled.remove(selected_job)\n",
        "        else:\n",
        "            t += 1\n",
        "    return scheduled"
      ],
      "execution_count": 0,
      "outputs": []
    },
    {
      "metadata": {
        "id": "UTf8DY4DFl8F",
        "colab_type": "text"
      },
      "cell_type": "markdown",
      "source": [
        "The following code block provides the skeleton for a function that use all of the previously defined functions as sub-procedures and allows a user to define custom approachs for single machine scheduling. It is this function that you should evolve (with the help of some additional sub-procedures) to handle the cases described in the project document."
      ]
    },
    {
      "metadata": {
        "id": "WCtfT_3uFl8B",
        "colab_type": "code",
        "colab": {}
      },
      "cell_type": "code",
      "source": [
        "def Apply_PI(sequence):\n",
        "    '''\n",
        "    This function performs a single pairwise interchange to a specified job sequnce\n",
        "    \n",
        "    Parameters\n",
        "    ----------\n",
        "    sequence:\n",
        "        A list that specifies the sequence of jobs\n",
        "    \n",
        "    Returns\n",
        "    -------\n",
        "    A list specifying the sequence with the pairwise interchange applied\n",
        "    '''\n",
        "    \n",
        "    p1 = np.random.randint(0,len(sequence))\n",
        "    p2 = np.random.randint(0,len(sequence))\n",
        "    temp_sequence = sequence.copy()\n",
        "    temp_sequence[p1], temp_sequence[p2] = temp_sequence[p2], temp_sequence[p1]\n",
        "    return temp_sequence"
      ],
      "execution_count": 0,
      "outputs": []
    },
    {
      "metadata": {
        "id": "YD-p8Y7UlQXv",
        "colab_type": "code",
        "colab": {}
      },
      "cell_type": "code",
      "source": [
        "def Apply_INSERTION(sequence):\n",
        "        \n",
        "    iv = np.random.randint(0,len(sequence))\n",
        "    temp_sequence = sequence.copy()\n",
        "    temp_sequence[iv] = temp_sequence[np.random.randint(0,len(sequence))]\n",
        "    return temp_sequence"
      ],
      "execution_count": 0,
      "outputs": []
    },
    {
      "metadata": {
        "id": "gfQQI1uXFl8G",
        "colab_type": "code",
        "colab": {}
      },
      "cell_type": "code",
      "source": [
        "def Generate_Schedule(job_data,\n",
        "                      primary_objective = 'CMAX',\n",
        "                      setup_times = False,\n",
        "                      setup_matrix = sjk,\n",
        "                      rule = 'SPT', \n",
        "                      improve = False, \n",
        "                      improve_iterations = 0, \n",
        "                neighborhood = None):\n",
        "    \n",
        "    \n",
        "    if primary_objective == 'CMAX':\n",
        "        objective_function = Compute_CMAX\n",
        "    elif primary_objective == 'TWT':\n",
        "        objective_function = Compute_TWT\n",
        "    \n",
        "    num_jobs = len(job_data['Job'].values)\n",
        "    if setup_times == False:\n",
        "        sjk = np.zeros((num_jobs+1,num_jobs+1))\n",
        "    else:\n",
        "        sjk = setup_matrix\n",
        "    if rule == 'SPT':\n",
        "        best_schedule = Apply_SPT_Rule(job_data)\n",
        "    elif rule == 'EDD':\n",
        "        best_schedule = Apply_EDD_Rule(job_data)\n",
        "    elif rule == 'WSPT':\n",
        "        best_schedule = Apply_WSPT_Rule(job_data)\n",
        "    elif rule == 'LPT':\n",
        "        best_schedule = Apply_LPT_Rule(job_data)\n",
        "    elif rule == 'SST':\n",
        "         best_schedule = Apply_SST_Rule(job_data, sjk)\n",
        "    if improve:\n",
        "        if neighborhood == 'PWI':\n",
        "            neighborhood_function = Apply_PI\n",
        "        elif neighborhood == 'INSERTION':\n",
        "            neighborhood_function = Apply_INSERTION\n",
        "        best_objective = objective_function(best_schedule, job_data, sjk)\n",
        "        iteration = 0\n",
        "        while iteration < improve_iterations:\n",
        "            temp_schedule = neighborhood_function(best_schedule.copy())\n",
        "            if objective_function(temp_schedule, job_data, sjk) < best_objective:\n",
        "                best_objective = objective_function(best_schedule, job_data, sjk)\n",
        "                best_schedule = temp_schedule\n",
        "                iteration = 0\n",
        "            else:\n",
        "                iteration += 1\n",
        "                \n",
        "    CMAX = Compute_CMAX(best_schedule, job_data, sjk)\n",
        "    TWT = Compute_TWT(best_schedule, job_data, sjk)\n",
        "    \n",
        "    return best_schedule, CMAX, TWT        "
      ],
      "execution_count": 0,
      "outputs": []
    },
    {
      "metadata": {
        "scrolled": true,
        "id": "RnzcT2rbFl8H",
        "colab_type": "code",
        "outputId": "339e2216-e9af-44e6-9f71-1fbbbfeb1170",
        "colab": {
          "base_uri": "https://localhost:8080/",
          "height": 71
        }
      },
      "cell_type": "code",
      "source": [
        "schedule, CMAX, TWT = Generate_Schedule(job_data)\n",
        "\n",
        "print(f'The best schedule is {schedule},\\nwith a CMAX of {CMAX}, and TWT of {TWT}.')"
      ],
      "execution_count": 54,
      "outputs": [
        {
          "output_type": "stream",
          "text": [
            "The best schedule is [36, 37, 50, 9, 24, 33, 4, 8, 15, 22, 34, 2, 38, 47, 23, 16, 7, 44, 14, 28, 40, 43, 26, 39, 18, 3, 13, 27, 49, 20, 17, 45, 1, 19, 35, 42, 29, 46, 21, 30, 32, 11, 5, 6, 10, 41, 48, 31, 12, 25],\n",
            "with a CMAX of 2545.0, and TWT of 17911.0.\n"
          ],
          "name": "stdout"
        }
      ]
    },
    {
      "metadata": {
        "id": "Kv9CD7uAFl8J",
        "colab_type": "code",
        "outputId": "217f7d4e-e319-40c4-b97f-60c5bceb4200",
        "colab": {
          "base_uri": "https://localhost:8080/",
          "height": 71
        }
      },
      "cell_type": "code",
      "source": [
        "schedule, CMAX, TWT = Generate_Schedule(job_data, \n",
        "                                        setup_times = True, \n",
        "                                        setup_matrix = sjk)\n",
        "print(f'The best schedule is {schedule},\\nwith a CMAX of {CMAX}, and TWT of {TWT}.')"
      ],
      "execution_count": 55,
      "outputs": [
        {
          "output_type": "stream",
          "text": [
            "The best schedule is [36, 37, 50, 9, 24, 33, 4, 8, 15, 22, 34, 2, 38, 47, 23, 16, 7, 44, 14, 28, 40, 43, 26, 39, 18, 3, 13, 27, 49, 20, 17, 45, 1, 19, 35, 42, 29, 46, 21, 30, 32, 11, 5, 6, 10, 41, 48, 31, 12, 25],\n",
            "with a CMAX of 3202.0, and TWT of 57396.0.\n"
          ],
          "name": "stdout"
        }
      ]
    },
    {
      "metadata": {
        "id": "VifauyIrFl8M",
        "colab_type": "code",
        "outputId": "fe012936-89cb-40ec-e7e1-99704ccbaf23",
        "colab": {
          "base_uri": "https://localhost:8080/",
          "height": 71
        }
      },
      "cell_type": "code",
      "source": [
        "schedule, CMAX, TWT = Generate_Schedule(job_data, \n",
        "                                        setup_times = True, \n",
        "                                        setup_matrix = sjk,\n",
        "                                        improve = True,\n",
        "                                        improve_iterations = 1,\n",
        "                                        neighborhood = 'PWI')\n",
        "\n",
        "print(f'The best schedule is {schedule},\\nwith a CMAX of {CMAX}, and TWT of {TWT}.')"
      ],
      "execution_count": 56,
      "outputs": [
        {
          "output_type": "stream",
          "text": [
            "The best schedule is [36, 37, 50, 9, 24, 33, 4, 8, 15, 22, 34, 2, 38, 47, 23, 16, 7, 44, 14, 28, 40, 43, 26, 39, 18, 3, 13, 27, 49, 20, 17, 45, 1, 19, 35, 42, 29, 46, 21, 30, 32, 11, 5, 6, 10, 41, 48, 31, 12, 25],\n",
            "with a CMAX of 3202.0, and TWT of 57396.0.\n"
          ],
          "name": "stdout"
        }
      ]
    },
    {
      "metadata": {
        "scrolled": true,
        "id": "mmJM_neqFl8N",
        "colab_type": "code",
        "outputId": "d98f7549-71a9-4b66-df12-3c625c495403",
        "colab": {
          "base_uri": "https://localhost:8080/",
          "height": 71
        }
      },
      "cell_type": "code",
      "source": [
        "schedule, CMAX, TWT = Generate_Schedule(job_data, \n",
        "                                        setup_times = True, \n",
        "                                        setup_matrix = sjk,\n",
        "                                        improve = True,\n",
        "                                        improve_iterations = 1000,\n",
        "                                        neighborhood = 'PWI',\n",
        "                                        rule = 'EDD')\n",
        "print(f'The best schedule is {schedule},\\nwith a CMAX of {CMAX}, and TWT of {TWT}.')"
      ],
      "execution_count": 57,
      "outputs": [
        {
          "output_type": "stream",
          "text": [
            "The best schedule is [21, 6, 7, 49, 12, 20, 32, 41, 33, 18, 46, 23, 40, 43, 35, 5, 8, 39, 28, 31, 15, 27, 34, 22, 4, 44, 37, 25, 9, 1, 30, 11, 3, 26, 50, 14, 45, 13, 16, 48, 36, 29, 10, 2, 19, 24, 38, 42, 17, 47],\n",
            "with a CMAX of 2945.0, and TWT of 59416.0.\n"
          ],
          "name": "stdout"
        }
      ]
    },
    {
      "metadata": {
        "id": "cCsVUgKtFl8R",
        "colab_type": "code",
        "outputId": "d602832f-ff1c-4be4-c8b9-bafc2b2b7d02",
        "colab": {
          "base_uri": "https://localhost:8080/",
          "height": 71
        }
      },
      "cell_type": "code",
      "source": [
        "\n",
        "schedule, CMAX, TWT = Generate_Schedule(job_data, \n",
        "                                        primary_objective = 'TWT',\n",
        "                                        setup_times = True, \n",
        "                                        setup_matrix = sjk,\n",
        "                                        improve = True,\n",
        "                                        improve_iterations = 100,\n",
        "                                        neighborhood = 'PWI',\n",
        "                                        rule = 'SPT')\n",
        "print(f'The best schedule is {schedule},\\nwith a CMAX of {CMAX}, and TWT of {TWT}.')"
      ],
      "execution_count": 58,
      "outputs": [
        {
          "output_type": "stream",
          "text": [
            "The best schedule is [50, 35, 45, 8, 13, 42, 4, 39, 14, 22, 10, 19, 7, 37, 23, 34, 9, 17, 44, 36, 33, 12, 49, 24, 18, 38, 28, 15, 11, 20, 2, 40, 43, 5, 26, 46, 3, 48, 41, 16, 32, 1, 47, 6, 29, 25, 21, 30, 27, 31],\n",
            "with a CMAX of 3076.0, and TWT of 19217.0.\n"
          ],
          "name": "stdout"
        }
      ]
    },
    {
      "metadata": {
        "id": "M6hDMZwkGXO4",
        "colab_type": "code",
        "outputId": "73468c89-ed99-45aa-d663-d627ac9ddcfd",
        "colab": {
          "base_uri": "https://localhost:8080/",
          "height": 71
        }
      },
      "cell_type": "code",
      "source": [
        "schedule, CMAX, TWT = Generate_Schedule(job_data, \n",
        "                                        primary_objective = 'TWT',\n",
        "                                        setup_times = True, \n",
        "                                        setup_matrix = sjk,\n",
        "                                        improve = True,\n",
        "                                        improve_iterations = 100,\n",
        "                                        neighborhood = 'PWI',\n",
        "                                        rule = 'LPT')\n",
        "print(f'The best schedule is {schedule},\\nwith a CMAX of {CMAX}, and TWT of {TWT}.')"
      ],
      "execution_count": 59,
      "outputs": [
        {
          "output_type": "stream",
          "text": [
            "The best schedule is [4, 7, 15, 14, 12, 28, 37, 45, 18, 39, 10, 16, 20, 38, 35, 6, 49, 40, 46, 22, 13, 42, 50, 27, 24, 11, 33, 17, 2, 34, 23, 3, 44, 48, 36, 8, 9, 19, 26, 41, 29, 21, 1, 5, 25, 43, 47, 32, 31, 30],\n",
            "with a CMAX of 3092.0, and TWT of 14555.0.\n"
          ],
          "name": "stdout"
        }
      ]
    },
    {
      "metadata": {
        "id": "6_gZCekMttXr",
        "colab_type": "code",
        "outputId": "87858354-9d29-4376-ced8-7176680f5c0f",
        "colab": {
          "base_uri": "https://localhost:8080/",
          "height": 71
        }
      },
      "cell_type": "code",
      "source": [
        "schedule, CMAX, TWT = Generate_Schedule(job_data, \n",
        "                                        setup_times = True, \n",
        "                                        setup_matrix = sjk,\n",
        "                                        improve = True,\n",
        "                                        improve_iterations = 1000,\n",
        "                                        neighborhood = 'INSERTION')\n",
        "\n",
        "print(f'The best schedule is {schedule},\\nwith a CMAX of {CMAX}, and TWT of {TWT}.')"
      ],
      "execution_count": 60,
      "outputs": [
        {
          "output_type": "stream",
          "text": [
            "The best schedule is [36, 33, 15, 33, 15, 33, 15, 33, 15, 33, 9, 36, 50, 33, 15, 33, 9, 36, 50, 24, 8, 9, 36, 50, 9, 50, 33, 9, 36, 50, 9, 36, 50, 33, 15, 33, 15, 24, 8, 50, 9, 36, 50, 24, 8, 9, 36, 50, 9, 50],\n",
            "with a CMAX of 1186.0, and TWT of 0.0.\n"
          ],
          "name": "stdout"
        }
      ]
    },
    {
      "metadata": {
        "id": "65ouQ-8qtypJ",
        "colab_type": "code",
        "outputId": "e145ea4e-da7b-4f6a-ff08-dcc9d2de4ce1",
        "colab": {
          "base_uri": "https://localhost:8080/",
          "height": 71
        }
      },
      "cell_type": "code",
      "source": [
        "schedule, CMAX, TWT = Generate_Schedule(job_data, \n",
        "                                        primary_objective = 'TWT',\n",
        "                                        setup_times = True, \n",
        "                                        setup_matrix = sjk,\n",
        "                                        improve = True,\n",
        "                                        improve_iterations = 100,\n",
        "                                        neighborhood = 'PWI',\n",
        "                                        rule = 'WSPT')\n",
        "print(f'The best schedule is {schedule},\\nwith a CMAX of {CMAX}, and TWT of {TWT}.')"
      ],
      "execution_count": 61,
      "outputs": [
        {
          "output_type": "stream",
          "text": [
            "The best schedule is [16, 9, 32, 8, 6, 3, 38, 7, 23, 20, 26, 42, 18, 45, 14, 40, 48, 36, 49, 10, 44, 12, 37, 24, 41, 11, 35, 39, 22, 29, 4, 15, 46, 1, 2, 13, 28, 17, 25, 19, 21, 5, 43, 50, 31, 47, 33, 30, 34, 27],\n",
            "with a CMAX of 3069.0, and TWT of 24573.0.\n"
          ],
          "name": "stdout"
        }
      ]
    },
    {
      "metadata": {
        "id": "5PeF7E5UxU_N",
        "colab_type": "code",
        "outputId": "ae178f69-6261-45bd-b202-1736e4bbb596",
        "colab": {
          "base_uri": "https://localhost:8080/",
          "height": 71
        }
      },
      "cell_type": "code",
      "source": [
        "schedule, CMAX, TWT = Generate_Schedule(job_data, \n",
        "                                        primary_objective = 'TWT',\n",
        "                                        setup_times = True, \n",
        "                                        setup_matrix = sjk,\n",
        "                                        improve = True,\n",
        "                                        improve_iterations = 100,\n",
        "                                        neighborhood = 'PWI',\n",
        "                                        rule = 'SST')\n",
        "print(f'The best schedule is {schedule},\\nwith a CMAX of {CMAX}, and TWT of {TWT}.')"
      ],
      "execution_count": 62,
      "outputs": [
        {
          "output_type": "stream",
          "text": [
            "The best schedule is [46, 7, 44, 12, 11, 10, 6, 15, 33, 8, 19, 24, 42, 50, 2, 38, 4, 18, 40, 35, 22, 34, 49, 45, 17, 20, 26, 29, 47, 14, 25, 16, 3, 37, 36, 9, 41, 43, 23, 32, 1, 5, 48, 28, 21, 13, 39, 27, 30, 31],\n",
            "with a CMAX of 3033.0, and TWT of 17269.0.\n"
          ],
          "name": "stdout"
        }
      ]
    },
    {
      "metadata": {
        "id": "CCgBnq1gyaHl",
        "colab_type": "code",
        "colab": {}
      },
      "cell_type": "code",
      "source": [
        ""
      ],
      "execution_count": 0,
      "outputs": []
    }
  ]
}